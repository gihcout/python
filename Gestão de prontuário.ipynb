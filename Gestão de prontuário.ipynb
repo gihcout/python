{
  "nbformat": 4,
  "nbformat_minor": 0,
  "metadata": {
    "colab": {
      "provenance": [],
      "authorship_tag": "ABX9TyNNgDazcBEF859dbgupR2k8",
      "include_colab_link": true
    },
    "kernelspec": {
      "name": "python3",
      "display_name": "Python 3"
    },
    "language_info": {
      "name": "python"
    }
  },
  "cells": [
    {
      "cell_type": "markdown",
      "metadata": {
        "id": "view-in-github",
        "colab_type": "text"
      },
      "source": [
        "<a href=\"https://colab.research.google.com/github/gihcout/python/blob/main/Gest%C3%A3o%20de%20prontu%C3%A1rio.ipynb\" target=\"_parent\"><img src=\"https://colab.research.google.com/assets/colab-badge.svg\" alt=\"Open In Colab\"/></a>"
      ]
    },
    {
      "cell_type": "markdown",
      "source": [
        "Um problema do mundo real que pode ser resolvido com o uso de estruturas de dados em Python é o seguinte:\n",
        "\n",
        "Suponha que um hospital tenha uma grande quantidade de pacientes que precisam de atendimento. Cada paciente é registrado com um nome, idade, histórico médico, uma lista de medicamentos prescritos e a sua reclamação. O hospital deseja gerenciar esses pacientes e seus dados de forma eficiente. Eles precisam ser capazes de pesquisar rapidamente os pacientes por nome e visualizar seus prontuários, assim como realizar os encaminhamentos e finalizar o case."
      ],
      "metadata": {
        "id": "9rNnVJaoD1VC"
      }
    },
    {
      "cell_type": "code",
      "source": [
        "import random as rd\n",
        "import numpy as np\n",
        "from datetime import date, datetime, timezone\n",
        "import datetime\n",
        "import time\n",
        "\n",
        "BrTimeDelta = datetime.timedelta(hours=-3)\n",
        "BrTimeZone = timezone(BrTimeDelta)"
      ],
      "metadata": {
        "id": "VfPeAv-eCdx1"
      },
      "execution_count": null,
      "outputs": []
    },
    {
      "cell_type": "code",
      "source": [
        "ordem_chegada = dict()\n",
        "historico = dict()\n",
        "agenda = dict()\n",
        "anamnese = dict()"
      ],
      "metadata": {
        "id": "P6OaYyu975ub"
      },
      "execution_count": null,
      "outputs": []
    },
    {
      "cell_type": "code",
      "source": [
        "print('Retirada de senha!')\n",
        "\n",
        "nome_paciente = input('Digite o nome do paciente:\\n')\n",
        "\n",
        "\n",
        "ordem_chegada[f'{nome_paciente}'] = datetime.datetime.now().astimezone(BrTimeZone).strftime(\"%Y-%m-%d %H:%M:%S\").replace('UTC', '')"
      ],
      "metadata": {
        "colab": {
          "base_uri": "https://localhost:8080/"
        },
        "id": "aFigE-w5J421",
        "outputId": "b1a5d3e1-afe0-4ac5-de30-792aee475089"
      },
      "execution_count": null,
      "outputs": [
        {
          "name": "stdout",
          "output_type": "stream",
          "text": [
            "Retirada de senha!\n",
            "Digite o nome do paciente:\n",
            "Giovani\n"
          ]
        }
      ]
    },
    {
      "cell_type": "code",
      "source": [
        "pacientes = list(ordem_chegada.keys())"
      ],
      "metadata": {
        "id": "TrSNwpEh6UCK"
      },
      "execution_count": null,
      "outputs": []
    },
    {
      "cell_type": "code",
      "source": [
        "while True:\n",
        "  print('MENU ANAMNESE')\n",
        "  opc = int(input('1- Nova anamnese\\n2- Alterar anamnese\\n3- Consultar anamnese\\n4- Encerrar tela\\nOpção '))\n",
        "  if opc == 1:\n",
        "    nome = input('Informe o primeiro nome do paciente\\n')\n",
        "    if nome in pacientes:\n",
        "      anamnese[nome] = {}\n",
        "      anamnese[nome][\"nome completo\"] = input('Informe o nome completo: ')\n",
        "      anamnese[nome]['idade'] = input('Informe a idade:\\nex: XX anos e XX mes(es) ')\n",
        "      anamnese[nome]['histórico'] = input('Informe o histórico de doenças: ')\n",
        "      anamnese[nome]['medicamentos'] = input('Informe quais medicamentos o paciente utiliza: ')\n",
        "      anamnese[nome]['reclamação'] = input('Informe qual a queixa do paciente: ')\n",
        "      time.sleep(5)\n",
        "      print('Anamnse salva!')\n",
        "    else:\n",
        "      print('Paciente não encontrado!')\n",
        "  elif opc == 2:\n",
        "    if nome in pacientes:\n",
        "      nome = input('Informe o primeiro nome do paciente que deseja alterar a anamnese\\n')\n",
        "      anamnese[nome]['nome completo'] = input('Informe o nome completo: ')\n",
        "      anamnese[nome]['idade'] = input('Informe a idade:\\nex: XX anos e XX mes(es) ')\n",
        "      anamnese[nome]['histórico'] = input('Informe o histórico de doenças: ')\n",
        "      anamnese[nome]['medicamentos'] = input('Informe quais medicamentos o paciente utiliza: ')\n",
        "      anamnese[nome]['reclamação'] = input('Informe qual a queixa do paciente: ')\n",
        "      time.sleep(10)\n",
        "      print('Anamnse salva!')\n",
        "    else:\n",
        "      print('Paciente não encontrado!')\n",
        "  elif opc == 3:\n",
        "    if nome in pacientes:\n",
        "      nome = input('Informe o primeiro nome do paciente que deseja consultar a anamnese\\n')\n",
        "      print('Nome: {}'.format(anamnese[nome]['nome completo']))\n",
        "      print('Idade: {}'.format(anamnese[nome]['idade']))\n",
        "      print('Histórico: {}'.format(anamnese[nome]['histórico']))\n",
        "      print('Medicamentos: {}'.format(anamnese[nome]['medicamentos']))\n",
        "      print('Paciente informa: {}'.format(anamnese[nome]['reclamação']))\n",
        "    else:\n",
        "      print('Paciente não encontrado!')\n",
        "  elif opc == 4:\n",
        "    print('Encerrado!')\n",
        "    break\n",
        "  else:\n",
        "    print('Opção inválida! Por favor, selecione uma opção válida.')"
      ],
      "metadata": {
        "colab": {
          "base_uri": "https://localhost:8080/"
        },
        "id": "aGdacYuoBqzg",
        "outputId": "84af9a92-2c04-4f98-f9fc-aafb87c04759"
      },
      "execution_count": null,
      "outputs": [
        {
          "output_type": "stream",
          "name": "stdout",
          "text": [
            "MENU ANAMNESE\n",
            "1- Nova anamnese\n",
            "2- Alterar anamnese\n",
            "3- Consultar anamnese\n",
            "4- Encerrar tela\n",
            "Opção 3\n",
            "Informe o primeiro nome do paciente que deseja consultar a anamnese\n",
            "Giovana\n",
            "Nome: Giovana Coutinho da Silva\n",
            "Idade: 24 anos e 5 meses\n",
            "Histórico: Asma\n",
            "Medicamentos: Alenia\n",
            "Paciente informa: Falta de ar\n",
            "MENU ANAMNESE\n",
            "1- Nova anamnese\n",
            "2- Alterar anamnese\n",
            "3- Consultar anamnese\n",
            "4- Encerrar tela\n",
            "Opção 2\n",
            "Informe o primeiro nome do paciente que deseja alterar a anamnese\n",
            "Maria\n",
            "Informe o nome completo: Maria das Graças Coutinho\n",
            "Informe a idade:\n",
            "ex: XX anos e XX mes(es) 60 anos e 2 meses\n",
            "Informe o histórico de doenças: Artrite periférica\n",
            "Informe quais medicamentos o paciente utiliza: Dipropionato de Betametasona\n",
            "Informe qual a queixa do paciente: Dores no joelho e ombro\n",
            "Anamnse salva!\n",
            "MENU ANAMNESE\n",
            "1- Nova anamnese\n",
            "2- Alterar anamnese\n",
            "3- Consultar anamnese\n",
            "4- Encerrar tela\n",
            "Opção 3\n",
            "Informe o primeiro nome do paciente que deseja consultar a anamnese\n",
            "Maria\n",
            "Nome: Maria das Graças Coutinho\n",
            "Idade: 60 anos e 2 meses\n",
            "Histórico: Artrite periférica\n",
            "Medicamentos: Dipropionato de Betametasona\n",
            "Paciente informa: Dores no joelho e ombro\n",
            "MENU ANAMNESE\n",
            "1- Nova anamnese\n",
            "2- Alterar anamnese\n",
            "3- Consultar anamnese\n",
            "4- Encerrar tela\n",
            "Opção 4\n",
            "Encerrado!\n"
          ]
        }
      ]
    },
    {
      "cell_type": "code",
      "source": [
        "for i in range(len(pacientes)):\n",
        "  print(f'Paciente {pacientes[i]} se dirigir a sala n°{rd.randint(1,25)}')\n",
        "  time.sleep(10)"
      ],
      "metadata": {
        "id": "01kvEQOu7oG4",
        "colab": {
          "base_uri": "https://localhost:8080/"
        },
        "outputId": "df7aa94e-81c9-4397-e335-ebc75c3cb2eb"
      },
      "execution_count": null,
      "outputs": [
        {
          "output_type": "stream",
          "name": "stdout",
          "text": [
            "Paciente Giovana se dirigir a sala n°20\n",
            "Paciente Maria se dirigir a sala n°4\n",
            "Paciente Giovani se dirigir a sala n°3\n"
          ]
        }
      ]
    },
    {
      "cell_type": "code",
      "source": [
        "# Cadastro de médico\n",
        "\n",
        "colaborador = {'Rafaela Tavares Costa':{\"senha\": '1713493', \"especialidade\": 'Clinico geral'},\n",
        "               'Isabelle Marinho Mendes':{\"senha\": '1455589', \"especialidade\": 'Fisioterapeuta'},\n",
        "               'Denis Renan Ferreira Correia':{\"senha\": '1533716', \"especialidade\": 'Cardiologista'}}"
      ],
      "metadata": {
        "id": "GU6u9NU6Cw1z"
      },
      "execution_count": null,
      "outputs": []
    },
    {
      "cell_type": "code",
      "source": [
        "print('Menu prontuário\\n')\n",
        "medico = input('Para acessar informe seu nome:\\n')\n",
        "senha = input('Senha:\\n')\n",
        "if medico in colaborador and senha == colaborador[medico][\"senha\"]:\n",
        "  while True:\n",
        "    op = int(input('1- Acessar prontuário\\n2- Encerrar prontuário\\n3- Agendar retorno\\n4- Encaminhar para especialista\\n5- Atualizar prontuário\\n6- Encerrar acesso\\n'))\n",
        "    if op == 6:\n",
        "      print('Atendimento encerrado')\n",
        "      print(datetime.datetime.now().astimezone(BrTimeZone).strftime(\"%Y-%m-%d %H:%M:%S\").replace('UTC', ''))\n",
        "      break\n",
        "    else:\n",
        "      atendimento = input('Informe o primeiro nome do paciente\\n')\n",
        "      if atendimento in pacientes:\n",
        "        if op == 1:\n",
        "          print('Nome: {}'.format(anamnese[atendimento]['nome completo']))\n",
        "          print('Idade: {}'.format(anamnese[atendimento]['idade']))\n",
        "          print('Histórico: {}'.format(anamnese[atendimento]['histórico']))\n",
        "          print('Medicamentos: {}'.format(anamnese[atendimento]['medicamentos']))\n",
        "          print('Paciente informa: {}'.format(anamnese[atendimento]['reclamação']))\n",
        "        elif op == 2:\n",
        "          historico[atendimento] = anamnese[atendimento]\n",
        "          historico[atendimento]['Motivo'] = (input('Informe o motivo pelo qual deseja encerrar esse prontuário\\n'), datetime.datetime.now().astimezone(BrTimeZone).strftime(\"%Y-%m-%d %H:%M:%S\").replace('UTC', ''))\n",
        "          del anamnese[atendimento]\n",
        "          print('Prontuário encerrado!')\n",
        "        elif op == 3:\n",
        "          agenda[atendimento] = {}\n",
        "          agenda[atendimento]['Agendamento'] = date.fromordinal(datetime.datetime.now().toordinal()+8).strftime(\"%Y-%m-%d\")+' '+datetime.datetime.now().astimezone(BrTimeZone).strftime(\"%H:%M:%S\").replace('UTC', '')\n",
        "          agenda[atendimento]['Médico(a)'] = (medico, colaborador[medico][\"especialidade\"])\n",
        "          print('Retorno agendado!')\n",
        "          print(agenda[atendimento])\n",
        "        elif op == 4:\n",
        "          esp_selecionada = input('1-Clinico geral\\n2-Fisioterapeuta\\n3-Cardiologista\\n')\n",
        "          agenda[atendimento] = {}\n",
        "          agenda[atendimento]['Agendamento'] = date.fromordinal(datetime.datetime.now().toordinal()+15).strftime(\"%Y-%m-%d\")+' '+datetime.datetime.now().astimezone(BrTimeZone).strftime(\"%H:%M:%S\").replace('UTC', '')\n",
        "          medico_encontrado = None\n",
        "          for medico, info in colaborador.items():\n",
        "            if info['especialidade'] == esp_selecionada:\n",
        "              medico_encontrado = medico\n",
        "              break\n",
        "          agenda[atendimento]['Médico(a)'] = (medico_encontrado, colaborador[medico_encontrado][\"especialidade\"])\n",
        "          print('Encaminhamento realizado!')\n",
        "          print(agenda[atendimento])\n",
        "        elif op == 5:\n",
        "          anamnese[atendimento]['Anotação médico(a)'] = input('Anotação medica:\\n')\n",
        "          print(\"Anotação salva!\")\n",
        "        else:\n",
        "          print('Opção inválida! Por favor, selecione uma opção válida.')\n",
        "      else:\n",
        "        print('Paciente não encontrado!')\n",
        "else:\n",
        "  print('Nome ou senha inválidos!')"
      ],
      "metadata": {
        "id": "5T1sj6SjAj4L",
        "colab": {
          "base_uri": "https://localhost:8080/"
        },
        "outputId": "aa6b1da3-5b11-4b81-a7a3-11b32571390a"
      },
      "execution_count": null,
      "outputs": [
        {
          "output_type": "stream",
          "name": "stdout",
          "text": [
            "Menu prontuário\n",
            "\n",
            "Para acessar informe seu nome:\n",
            "Rafaela Tavares Costa\n",
            "Senha:\n",
            "1713493\n",
            "1- Acessar prontuário\n",
            "2- Encerrar prontuário\n",
            "3- Agendar retorno\n",
            "4- Encaminhar para especialista\n",
            "5- Atualizar prontuário\n",
            "6- Encerrar acesso\n",
            "1\n",
            "Informe o primeiro nome do paciente\n",
            "Maria\n",
            "Nome: Maria das Graças Coutinho\n",
            "Idade: 60 anos e 2 meses\n",
            "Histórico: Artrite periférica\n",
            "Medicamentos: Dipropionato de Betametasona\n",
            "Paciente informa: Dores no joelho e ombro\n",
            "1- Acessar prontuário\n",
            "2- Encerrar prontuário\n",
            "3- Agendar retorno\n",
            "4- Encaminhar para especialista\n",
            "5- Atualizar prontuário\n",
            "6- Encerrar acesso\n",
            "3\n",
            "Informe o primeiro nome do paciente\n",
            "Maria\n",
            "Retorno agendado!\n",
            "{'Agendamento': '2023-05-27 13:15:53', 'Médico(a)': ('Rafaela Tavares Costa', 'Clinico geral')}\n",
            "1- Acessar prontuário\n",
            "2- Encerrar prontuário\n",
            "3- Agendar retorno\n",
            "4- Encaminhar para especialista\n",
            "5- Atualizar prontuário\n",
            "6- Encerrar acesso\n",
            "4\n",
            "Informe o primeiro nome do paciente\n",
            "Giovani\n",
            "1-Clinico geral\n",
            "2-Fisioterapeuta\n",
            "3-Cardiologista\n",
            "Cardiologista\n",
            "Encaminhamento realizado!\n",
            "{'Agendamento': '2023-06-03 13:17:07', 'Médico(a)': ('Denis Renan Ferreira Correia', 'Cardiologista')}\n",
            "1- Acessar prontuário\n",
            "2- Encerrar prontuário\n",
            "3- Agendar retorno\n",
            "4- Encaminhar para especialista\n",
            "5- Atualizar prontuário\n",
            "6- Encerrar acesso\n",
            "6\n",
            "Atendimento encerrado\n",
            "2023-05-19 13:17:13\n"
          ]
        }
      ]
    }
  ]
}