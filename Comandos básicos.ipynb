{
  "nbformat": 4,
  "nbformat_minor": 0,
  "metadata": {
    "colab": {
      "provenance": [],
      "authorship_tag": "ABX9TyNLjAQzr5d8gKx9WDiVtLC3",
      "include_colab_link": true
    },
    "kernelspec": {
      "name": "python3",
      "display_name": "Python 3"
    },
    "language_info": {
      "name": "python"
    }
  },
  "cells": [
    {
      "cell_type": "markdown",
      "metadata": {
        "id": "view-in-github",
        "colab_type": "text"
      },
      "source": [
        "<a href=\"https://colab.research.google.com/github/gihcout/python/blob/main/Comandos%20b%C3%A1sicos.ipynb\" target=\"_parent\"><img src=\"https://colab.research.google.com/assets/colab-badge.svg\" alt=\"Open In Colab\"/></a>"
      ]
    },
    {
      "cell_type": "code",
      "execution_count": null,
      "metadata": {
        "colab": {
          "base_uri": "https://localhost:8080/"
        },
        "id": "LjFAkRLJTd6b",
        "outputId": "6318be77-b334-4a1b-b467-bb74acf58f50"
      },
      "outputs": [
        {
          "output_type": "stream",
          "name": "stdout",
          "text": [
            "Digite seu nome: \n",
            "Giovana\n",
            "Digite sua idade: \n",
            "23\n",
            "Digite seu peso: \n",
            "60\n",
            "\n",
            "Hello word\n",
            "\n",
            "Nome: Giovana, Idade: 23, Peso: 60.0\n"
          ]
        }
      ],
      "source": [
        "#entrada de dados\n",
        "nome=str(input('Digite seu nome: \\n'))\n",
        "idade=int(input('Digite sua idade: \\n'))\n",
        "peso=float(input('Digite seu peso: \\n'))\n",
        "#impressão de resultados\n",
        "print('\\nHello word\\n')\n",
        "print(f'Nome: {nome}, Idade: {idade}, Peso: {peso}')"
      ]
    },
    {
      "cell_type": "code",
      "source": [
        "n1=float(input(('Digite o número 1 \\n')))\n",
        "n2=float(input(('Digite o número 2 \\n')))\n",
        "#operações aritméticas\n",
        "print(f'A soma dos números é {n1+n2:.2f}')\n",
        "print(f'A subtração dos números é {n1-n2:.2f}')\n",
        "print(f'A multiplicação dos números é {n1*n2:.2f}')\n",
        "print(f'A divisão dos números é {n1/n2:.2f}')"
      ],
      "metadata": {
        "colab": {
          "base_uri": "https://localhost:8080/"
        },
        "id": "rNT3dtg2UuJv",
        "outputId": "9ec2d135-edf0-4644-e39e-f96f3265d26d"
      },
      "execution_count": null,
      "outputs": [
        {
          "output_type": "stream",
          "name": "stdout",
          "text": [
            "Digite o número 1 \n",
            "10\n",
            "Digite o número 2 \n",
            "2\n",
            "A soma dos números é 12.00\n",
            "A subtração dos números é 8.00\n",
            "A multiplicação dos números é 20.00\n",
            "A divisão dos números é 5.00\n"
          ]
        }
      ]
    },
    {
      "cell_type": "code",
      "source": [
        "import math\n",
        "n=float(input('Digite um número \\n'))\n",
        "print(f'O número ao quadrado é {n**2:.2f}')\n",
        "print(f'O número ao cubo é {pow(n,3):.2f}')\n",
        "print(f'A raiz quadrada é {math.sqrt(n):.2f}')"
      ],
      "metadata": {
        "colab": {
          "base_uri": "https://localhost:8080/"
        },
        "id": "LNOOZ08jWESC",
        "outputId": "99b65de8-dda6-4b67-8697-e16f38162f8d"
      },
      "execution_count": null,
      "outputs": [
        {
          "output_type": "stream",
          "name": "stdout",
          "text": [
            "Digite um número \n",
            "2\n",
            "O número ao quadrado é 4.00\n",
            "O número ao cubo é 8.00\n",
            "A raiz quadrada é 1.41\n"
          ]
        }
      ]
    },
    {
      "cell_type": "code",
      "source": [
        "n=float(input('Digite um número: \\n'))\n",
        "\n",
        "if n>=0:\n",
        "  print('Número positivo\\n')\n",
        "else:\n",
        "  print('Número negativo\\n')"
      ],
      "metadata": {
        "colab": {
          "base_uri": "https://localhost:8080/"
        },
        "id": "0zc70xtnZGqk",
        "outputId": "e01d58b2-6305-462c-b8b3-7cfe6c5a4481"
      },
      "execution_count": null,
      "outputs": [
        {
          "output_type": "stream",
          "name": "stdout",
          "text": [
            "Digite um número: \n",
            "-1\n",
            "Número negativo\n",
            "\n"
          ]
        }
      ]
    },
    {
      "cell_type": "code",
      "source": [
        "a=float(input('Digite o lado a: '))\n",
        "b=float(input('Digite o lado b: '))\n",
        "c=float(input('Digite o lado c: '))\n",
        "\n",
        "if a==b and b==c:\n",
        "  print('\\nTriângulo equilátero\\n')\n",
        "elif a==b or b==c or c==a:\n",
        "  print('\\nTriângulo Isóceles\\n')\n",
        "else:\n",
        "  print('\\nTriângulo escaleno\\n')"
      ],
      "metadata": {
        "colab": {
          "base_uri": "https://localhost:8080/"
        },
        "id": "jFAmOMh1auUi",
        "outputId": "1a5211db-a1b8-4d2c-cd29-cec0d3b3084f"
      },
      "execution_count": null,
      "outputs": [
        {
          "output_type": "stream",
          "name": "stdout",
          "text": [
            "Digite o lado a: 2\n",
            "Digite o lado b: 2\n",
            "Digite o lado c: 3\n",
            "\n",
            "Triângulo Isóceles\n",
            "\n"
          ]
        }
      ]
    },
    {
      "cell_type": "code",
      "source": [
        "for i in range(10):\n",
        "  print(i)"
      ],
      "metadata": {
        "colab": {
          "base_uri": "https://localhost:8080/"
        },
        "id": "603CQrmPeNqR",
        "outputId": "acde07e9-2fcc-406a-83ba-3ddd8b5ed457"
      },
      "execution_count": null,
      "outputs": [
        {
          "output_type": "stream",
          "name": "stdout",
          "text": [
            "0\n",
            "1\n",
            "2\n",
            "3\n",
            "4\n",
            "5\n",
            "6\n",
            "7\n",
            "8\n",
            "9\n"
          ]
        }
      ]
    },
    {
      "cell_type": "code",
      "source": [
        "for i in range(10):\n",
        "  print(i,end=' ')"
      ],
      "metadata": {
        "colab": {
          "base_uri": "https://localhost:8080/"
        },
        "id": "Ucux0tR5fKdP",
        "outputId": "c1619fde-0717-4cf5-d63f-d8910aeb0cd4"
      },
      "execution_count": null,
      "outputs": [
        {
          "output_type": "stream",
          "name": "stdout",
          "text": [
            "0 1 2 3 4 5 6 7 8 9 "
          ]
        }
      ]
    },
    {
      "cell_type": "code",
      "source": [
        "for i in range(2, 11):\n",
        "  print(i)"
      ],
      "metadata": {
        "colab": {
          "base_uri": "https://localhost:8080/"
        },
        "id": "Sp1HY5EjfQgt",
        "outputId": "4fc6df97-a997-43cc-eb82-973975e61b38"
      },
      "execution_count": null,
      "outputs": [
        {
          "output_type": "stream",
          "name": "stdout",
          "text": [
            "2\n",
            "3\n",
            "4\n",
            "5\n",
            "6\n",
            "7\n",
            "8\n",
            "9\n",
            "10\n"
          ]
        }
      ]
    },
    {
      "cell_type": "code",
      "source": [
        "for i in range(10,0,-1):\n",
        "  print(i)"
      ],
      "metadata": {
        "colab": {
          "base_uri": "https://localhost:8080/"
        },
        "id": "rH1_28KCfWtl",
        "outputId": "191caa15-e569-470a-febc-2a6adf3f2b5a"
      },
      "execution_count": null,
      "outputs": [
        {
          "output_type": "stream",
          "name": "stdout",
          "text": [
            "10\n",
            "9\n",
            "8\n",
            "7\n",
            "6\n",
            "5\n",
            "4\n",
            "3\n",
            "2\n",
            "1\n"
          ]
        }
      ]
    },
    {
      "cell_type": "code",
      "source": [
        "n=int(input('Qual número deseja saber a tabuada?\\n'))\n",
        "\n",
        "print('****Tabuada*****')\n",
        "for i in range(11):\n",
        "  print(f'{n} x {i} = {n*i}')"
      ],
      "metadata": {
        "colab": {
          "base_uri": "https://localhost:8080/"
        },
        "id": "iLSEJn-HgDbj",
        "outputId": "3999bdba-fd5d-4e58-e42e-c067a847d4b3"
      },
      "execution_count": null,
      "outputs": [
        {
          "output_type": "stream",
          "name": "stdout",
          "text": [
            "Qual número deseja saber a tabuada?\n",
            "3\n",
            "****Tabuada*****\n",
            "3 x 0 = 0\n",
            "3 x 1 = 3\n",
            "3 x 2 = 6\n",
            "3 x 3 = 9\n",
            "3 x 4 = 12\n",
            "3 x 5 = 15\n",
            "3 x 6 = 18\n",
            "3 x 7 = 21\n",
            "3 x 8 = 24\n",
            "3 x 9 = 27\n",
            "3 x 10 = 30\n"
          ]
        }
      ]
    },
    {
      "cell_type": "code",
      "source": [
        "cont=0\n",
        "acum=0\n",
        "\n",
        "n=int(input('Quantas pessoas compraram o produto x?\\n'))\n",
        "\n",
        "for i in range(n):\n",
        "  preco=float(input('Digite o preço do produto x\\n'))\n",
        "  acum+=preco\n",
        "\n",
        "  if preco>80:\n",
        "    cont+=1\n",
        "\n",
        "media=acum/n\n",
        "print(f'\\n{cont} pessoas pagaram mais que R$80 no produto x\\n')\n",
        "print(f'\\nO valor médio é {media:.2f}\\n')"
      ],
      "metadata": {
        "colab": {
          "base_uri": "https://localhost:8080/"
        },
        "id": "Dx5onhZJiEoF",
        "outputId": "f6a6df71-c4be-423a-e42f-de6118392052"
      },
      "execution_count": null,
      "outputs": [
        {
          "output_type": "stream",
          "name": "stdout",
          "text": [
            "Quantas pessoas compraram o produto x?\n",
            "3\n",
            "Digite o preço do produto x\n",
            "200\n",
            "Digite o preço do produto x\n",
            "100\n",
            "Digite o preço do produto x\n",
            "20\n",
            "\n",
            "2 pessoas pagaram mais que R$80 no produto x\n",
            "\n",
            "\n",
            "O valor médio é 106.67\n",
            "\n"
          ]
        }
      ]
    },
    {
      "cell_type": "code",
      "source": [
        "i=0\n",
        "\n",
        "while i<3:\n",
        "  sal=float(input('Digite o salário\\n'))\n",
        "\n",
        "  if sal<1000:\n",
        "    print(f'Novo salário é R${sal*1.30:.2f}')\n",
        "  else:\n",
        "    print('\\nVocê não tem direito ao aumento\\n')\n",
        "\n",
        "  i+=1"
      ],
      "metadata": {
        "colab": {
          "base_uri": "https://localhost:8080/"
        },
        "id": "keT65vBjkxqB",
        "outputId": "e78cea5e-c008-42a1-cd92-8d299bfd9c79"
      },
      "execution_count": null,
      "outputs": [
        {
          "output_type": "stream",
          "name": "stdout",
          "text": [
            "Digite o salário\n",
            "2000\n",
            "\n",
            "Você não tem direito ao aumento\n",
            "\n",
            "Digite o salário\n",
            "900\n",
            "Novo salário é R$1170.00\n",
            "Digite o salário\n",
            "500\n",
            "Novo salário é R$650.00\n"
          ]
        }
      ]
    }
  ]
}