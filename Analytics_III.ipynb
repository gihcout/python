{
  "nbformat": 4,
  "nbformat_minor": 0,
  "metadata": {
    "colab": {
      "provenance": [],
      "mount_file_id": "1pUe12RkpvGqXWMdG3Av0KbIR4ijE3RYo",
      "authorship_tag": "ABX9TyOX2jZ8uszm6GF+hFcL0GyW",
      "include_colab_link": true
    },
    "kernelspec": {
      "name": "python3",
      "display_name": "Python 3"
    },
    "language_info": {
      "name": "python"
    }
  },
  "cells": [
    {
      "cell_type": "markdown",
      "metadata": {
        "id": "view-in-github",
        "colab_type": "text"
      },
      "source": [
        "<a href=\"https://colab.research.google.com/github/gihcout/python/blob/main/Analytics_III.ipynb\" target=\"_parent\"><img src=\"https://colab.research.google.com/assets/colab-badge.svg\" alt=\"Open In Colab\"/></a>"
      ]
    },
    {
      "cell_type": "code",
      "source": [
        "dados = pd.read_excel('/base-de-dados-cliente.xlsx')\n",
        "\n",
        "loja = list(dados['LOJA'])\n",
        "genero = list(dados['GÊNERO'])\n",
        "valor = list(dados['VALOR'])"
      ],
      "metadata": {
        "id": "EY7jLoAp59dH"
      },
      "execution_count": null,
      "outputs": []
    },
    {
      "cell_type": "code",
      "source": [
        "acimade250 = [] #Cria lista vazia\n",
        "cont = 0\n",
        "\n",
        "for i in range(len(valor)):\n",
        "  if valor[i] >= 250:\n",
        "    acimade250.append(valor[i])\n",
        "    print(f'Valor da compra {valor[i]}, da cidade de {loja[i]}')\n",
        "    cont +=1\n",
        "\n",
        "print(f'Foram {cont} vendas acima de R$250')\n",
        "print(acimade250)"
      ],
      "metadata": {
        "colab": {
          "base_uri": "https://localhost:8080/"
        },
        "id": "Kga-0nX061iO",
        "outputId": "fe1d26db-61ab-4018-9c81-55020a447ab7"
      },
      "execution_count": null,
      "outputs": [
        {
          "output_type": "stream",
          "name": "stdout",
          "text": [
            "Valor da compra 258, da cidade de Uberlândia\n",
            "Valor da compra 281, da cidade de Uberaba\n",
            "Valor da compra 286, da cidade de Ituiutaba\n",
            "Valor da compra 274, da cidade de Uberaba\n",
            "Valor da compra 261, da cidade de Uberaba\n",
            "Valor da compra 274, da cidade de Araguari\n",
            "Valor da compra 252, da cidade de Araguari\n",
            "Valor da compra 282, da cidade de Ituiutaba\n",
            "Valor da compra 269, da cidade de Ituiutaba\n",
            "Valor da compra 286, da cidade de Araguari\n",
            "Valor da compra 269, da cidade de Uberaba\n",
            "Valor da compra 264, da cidade de Ituiutaba\n",
            "Valor da compra 263, da cidade de Ituiutaba\n",
            "Valor da compra 287, da cidade de Uberaba\n",
            "Valor da compra 260, da cidade de Uberaba\n",
            "Valor da compra 288, da cidade de Uberlândia\n",
            "Valor da compra 285, da cidade de Ituiutaba\n",
            "Valor da compra 294, da cidade de Ituiutaba\n",
            "Valor da compra 289, da cidade de Uberlândia\n",
            "Valor da compra 254, da cidade de Araguari\n",
            "Valor da compra 298, da cidade de Uberaba\n",
            "Valor da compra 292, da cidade de Uberlândia\n",
            "Valor da compra 264, da cidade de Ituiutaba\n",
            "Valor da compra 287, da cidade de Uberlândia\n",
            "Valor da compra 260, da cidade de Araguari\n",
            "Valor da compra 286, da cidade de Uberlândia\n",
            "Valor da compra 272, da cidade de Uberaba\n",
            "Valor da compra 271, da cidade de Ituiutaba\n",
            "Valor da compra 259, da cidade de Ituiutaba\n",
            "Valor da compra 288, da cidade de Uberlândia\n",
            "Valor da compra 259, da cidade de Uberlândia\n",
            "Valor da compra 266, da cidade de Araguari\n",
            "Valor da compra 254, da cidade de Ituiutaba\n",
            "Valor da compra 297, da cidade de Uberaba\n",
            "Valor da compra 300, da cidade de Uberlândia\n",
            "Valor da compra 295, da cidade de Araguari\n",
            "Valor da compra 275, da cidade de Uberlândia\n",
            "Valor da compra 252, da cidade de Araguari\n",
            "Valor da compra 292, da cidade de Araguari\n",
            "Valor da compra 260, da cidade de Araguari\n",
            "Valor da compra 288, da cidade de Ituiutaba\n",
            "Valor da compra 269, da cidade de Araguari\n",
            "Valor da compra 264, da cidade de Uberaba\n",
            "Valor da compra 276, da cidade de Araguari\n",
            "Valor da compra 280, da cidade de Ituiutaba\n",
            "Valor da compra 296, da cidade de Araguari\n",
            "Valor da compra 293, da cidade de Araguari\n",
            "Valor da compra 262, da cidade de Ituiutaba\n",
            "Valor da compra 255, da cidade de Araguari\n",
            "Valor da compra 257, da cidade de Ituiutaba\n",
            "Valor da compra 250, da cidade de Uberaba\n",
            "Valor da compra 300, da cidade de Uberlândia\n",
            "Valor da compra 285, da cidade de Uberlândia\n",
            "Valor da compra 276, da cidade de Uberaba\n",
            "Valor da compra 298, da cidade de Uberaba\n",
            "Valor da compra 293, da cidade de Araguari\n",
            "Valor da compra 256, da cidade de Uberlândia\n",
            "Valor da compra 280, da cidade de Araguari\n",
            "Valor da compra 296, da cidade de Araguari\n",
            "Valor da compra 267, da cidade de Ituiutaba\n",
            "Valor da compra 271, da cidade de Uberaba\n",
            "Valor da compra 253, da cidade de Uberlândia\n",
            "Valor da compra 273, da cidade de Araguari\n",
            "Valor da compra 250, da cidade de Uberaba\n",
            "Valor da compra 254, da cidade de Uberlândia\n",
            "Valor da compra 300, da cidade de Uberaba\n",
            "Valor da compra 270, da cidade de Ituiutaba\n",
            "Valor da compra 262, da cidade de Uberlândia\n",
            "Valor da compra 285, da cidade de Ituiutaba\n",
            "Valor da compra 258, da cidade de Araguari\n",
            "Valor da compra 272, da cidade de Araguari\n",
            "Valor da compra 297, da cidade de Araguari\n",
            "Valor da compra 260, da cidade de Araguari\n",
            "Valor da compra 260, da cidade de Uberlândia\n",
            "Valor da compra 286, da cidade de Araguari\n",
            "Valor da compra 298, da cidade de Araguari\n",
            "Valor da compra 275, da cidade de Uberaba\n",
            "Valor da compra 252, da cidade de Uberlândia\n",
            "Valor da compra 251, da cidade de Araguari\n",
            "Valor da compra 285, da cidade de Araguari\n",
            "Valor da compra 270, da cidade de Uberlândia\n",
            "Valor da compra 272, da cidade de Araguari\n",
            "Valor da compra 281, da cidade de Araguari\n",
            "Valor da compra 280, da cidade de Uberaba\n",
            "Valor da compra 296, da cidade de Ituiutaba\n",
            "Valor da compra 257, da cidade de Araguari\n",
            "Valor da compra 250, da cidade de Ituiutaba\n",
            "Valor da compra 294, da cidade de Ituiutaba\n",
            "Valor da compra 267, da cidade de Araguari\n",
            "Valor da compra 289, da cidade de Uberlândia\n",
            "Valor da compra 290, da cidade de Uberaba\n",
            "Valor da compra 260, da cidade de Uberlândia\n",
            "Valor da compra 251, da cidade de Uberaba\n",
            "Valor da compra 255, da cidade de Araguari\n",
            "Valor da compra 254, da cidade de Uberaba\n",
            "Valor da compra 277, da cidade de Uberaba\n",
            "Valor da compra 252, da cidade de Uberlândia\n",
            "Valor da compra 292, da cidade de Uberaba\n",
            "Valor da compra 293, da cidade de Uberlândia\n",
            "Valor da compra 256, da cidade de Araguari\n",
            "Valor da compra 267, da cidade de Araguari\n",
            "Valor da compra 278, da cidade de Ituiutaba\n",
            "Valor da compra 295, da cidade de Araguari\n",
            "Valor da compra 297, da cidade de Araguari\n",
            "Valor da compra 265, da cidade de Uberlândia\n",
            "Valor da compra 261, da cidade de Araguari\n",
            "Valor da compra 272, da cidade de Uberaba\n",
            "Valor da compra 283, da cidade de Ituiutaba\n",
            "Valor da compra 265, da cidade de Araguari\n",
            "Valor da compra 256, da cidade de Araguari\n",
            "Valor da compra 267, da cidade de Uberlândia\n",
            "Valor da compra 289, da cidade de Uberlândia\n",
            "Valor da compra 270, da cidade de Uberlândia\n",
            "Valor da compra 273, da cidade de Uberaba\n",
            "Valor da compra 275, da cidade de Uberlândia\n",
            "Valor da compra 259, da cidade de Ituiutaba\n",
            "Valor da compra 297, da cidade de Uberlândia\n",
            "Valor da compra 261, da cidade de Uberaba\n",
            "Valor da compra 281, da cidade de Uberaba\n",
            "Valor da compra 263, da cidade de Araguari\n",
            "Valor da compra 294, da cidade de Uberaba\n",
            "Valor da compra 271, da cidade de Araguari\n",
            "Valor da compra 272, da cidade de Uberlândia\n",
            "Valor da compra 285, da cidade de Ituiutaba\n",
            "Valor da compra 263, da cidade de Uberaba\n",
            "Valor da compra 288, da cidade de Uberaba\n",
            "Valor da compra 278, da cidade de Uberaba\n",
            "Valor da compra 256, da cidade de Uberlândia\n",
            "Valor da compra 263, da cidade de Araguari\n",
            "Valor da compra 263, da cidade de Araguari\n",
            "Valor da compra 280, da cidade de Ituiutaba\n",
            "Valor da compra 289, da cidade de Ituiutaba\n",
            "Valor da compra 265, da cidade de Araguari\n",
            "Valor da compra 277, da cidade de Araguari\n",
            "Valor da compra 298, da cidade de Ituiutaba\n",
            "Valor da compra 269, da cidade de Uberaba\n",
            "Valor da compra 288, da cidade de Ituiutaba\n",
            "Valor da compra 276, da cidade de Uberlândia\n",
            "Valor da compra 255, da cidade de Uberaba\n",
            "Valor da compra 260, da cidade de Uberlândia\n",
            "Valor da compra 279, da cidade de Ituiutaba\n",
            "Valor da compra 252, da cidade de Uberaba\n",
            "Valor da compra 280, da cidade de Araguari\n",
            "Valor da compra 275, da cidade de Uberlândia\n",
            "Valor da compra 257, da cidade de Uberlândia\n",
            "Valor da compra 272, da cidade de Uberaba\n",
            "Valor da compra 262, da cidade de Araguari\n",
            "Valor da compra 295, da cidade de Araguari\n",
            "Valor da compra 286, da cidade de Uberaba\n",
            "Valor da compra 282, da cidade de Araguari\n",
            "Valor da compra 279, da cidade de Uberlândia\n",
            "Valor da compra 300, da cidade de Ituiutaba\n",
            "Valor da compra 292, da cidade de Uberaba\n",
            "Valor da compra 266, da cidade de Ituiutaba\n",
            "Valor da compra 252, da cidade de Uberaba\n",
            "Valor da compra 285, da cidade de Araguari\n",
            "Valor da compra 273, da cidade de Ituiutaba\n",
            "Valor da compra 286, da cidade de Ituiutaba\n",
            "Valor da compra 295, da cidade de Uberaba\n",
            "Valor da compra 252, da cidade de Araguari\n",
            "Valor da compra 262, da cidade de Ituiutaba\n",
            "Valor da compra 285, da cidade de Ituiutaba\n",
            "Valor da compra 300, da cidade de Uberlândia\n",
            "Valor da compra 278, da cidade de Ituiutaba\n",
            "Valor da compra 280, da cidade de Ituiutaba\n",
            "Valor da compra 273, da cidade de Uberlândia\n",
            "Valor da compra 250, da cidade de Uberaba\n",
            "Valor da compra 279, da cidade de Uberlândia\n",
            "Foram 168 vendas acima de R$250\n",
            "[258, 281, 286, 274, 261, 274, 252, 282, 269, 286, 269, 264, 263, 287, 260, 288, 285, 294, 289, 254, 298, 292, 264, 287, 260, 286, 272, 271, 259, 288, 259, 266, 254, 297, 300, 295, 275, 252, 292, 260, 288, 269, 264, 276, 280, 296, 293, 262, 255, 257, 250, 300, 285, 276, 298, 293, 256, 280, 296, 267, 271, 253, 273, 250, 254, 300, 270, 262, 285, 258, 272, 297, 260, 260, 286, 298, 275, 252, 251, 285, 270, 272, 281, 280, 296, 257, 250, 294, 267, 289, 290, 260, 251, 255, 254, 277, 252, 292, 293, 256, 267, 278, 295, 297, 265, 261, 272, 283, 265, 256, 267, 289, 270, 273, 275, 259, 297, 261, 281, 263, 294, 271, 272, 285, 263, 288, 278, 256, 263, 263, 280, 289, 265, 277, 298, 269, 288, 276, 255, 260, 279, 252, 280, 275, 257, 272, 262, 295, 286, 282, 279, 300, 292, 266, 252, 285, 273, 286, 295, 252, 262, 285, 300, 278, 280, 273, 250, 279]\n"
          ]
        }
      ]
    },
    {
      "cell_type": "code",
      "source": [
        "cont = 0\n",
        "\n",
        "for i in range(len(loja)):\n",
        "  if loja[i] == 'Uberaba':\n",
        "    cont +=1\n",
        "\n",
        "print(f'Foram {cont} vendas em Uberaba')"
      ],
      "metadata": {
        "id": "Z8SWjkvS9gMa",
        "colab": {
          "base_uri": "https://localhost:8080/"
        },
        "outputId": "ef6b94e4-1d92-475f-cb44-7eceeb453175"
      },
      "execution_count": null,
      "outputs": [
        {
          "output_type": "stream",
          "name": "stdout",
          "text": [
            "Foram 250 vendas em Uberaba\n"
          ]
        }
      ]
    },
    {
      "cell_type": "code",
      "source": [
        "cont = 0\n",
        "\n",
        "for i in range(len(genero)):\n",
        "  if genero[i] == 'Feminino':\n",
        "    cont +=1\n",
        "\n",
        "print(f'Foram {cont} vendas pro genero Feminino')"
      ],
      "metadata": {
        "id": "ZNRDLM6O1538",
        "colab": {
          "base_uri": "https://localhost:8080/"
        },
        "outputId": "5e980bb4-161e-4b10-8504-eb670b6710eb"
      },
      "execution_count": null,
      "outputs": [
        {
          "output_type": "stream",
          "name": "stdout",
          "text": [
            "Foram 496 vendas pro genero Feminino\n"
          ]
        }
      ]
    }
  ]
}